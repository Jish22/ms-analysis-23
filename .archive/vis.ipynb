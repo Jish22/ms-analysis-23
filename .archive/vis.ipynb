{
 "cells": [
  {
   "cell_type": "code",
   "execution_count": 28,
   "metadata": {},
   "outputs": [],
   "source": [
    "from vis_helpers import read_data, clean_col, simple_vis, many_simple\n"
   ]
  },
  {
   "cell_type": "code",
   "execution_count": 29,
   "metadata": {},
   "outputs": [
    {
     "ename": "AttributeError",
     "evalue": "module 'plotly.graph_objects' has no attribute 'line'",
     "output_type": "error",
     "traceback": [
      "\u001b[0;31m---------------------------------------------------------------------------\u001b[0m",
      "\u001b[0;31mAttributeError\u001b[0m                            Traceback (most recent call last)",
      "Cell \u001b[0;32mIn[29], line 8\u001b[0m\n\u001b[1;32m      5\u001b[0m     raw_csv[i] \u001b[38;5;241m=\u001b[39m clean_col(raw_csv[i])\n\u001b[1;32m      7\u001b[0m raw_csv[\u001b[38;5;241m0\u001b[39m]\u001b[38;5;241m.\u001b[39mcolumns[\u001b[38;5;241m0\u001b[39m][:]\n\u001b[0;32m----> 8\u001b[0m \u001b[43mmany_simple\u001b[49m\u001b[43m(\u001b[49m\u001b[43mraw_csv\u001b[49m\u001b[43m)\u001b[49m\u001b[38;5;241m.\u001b[39mshow()\n\u001b[1;32m     10\u001b[0m raw_csv[\u001b[38;5;241m0\u001b[39m]\u001b[38;5;241m.\u001b[39mhead()\n",
      "File \u001b[0;32m~/Desktop/Research lab/ms-analysis-23-1/vis_helpers.py:63\u001b[0m, in \u001b[0;36mmany_simple\u001b[0;34m(dfs)\u001b[0m\n\u001b[1;32m     60\u001b[0m lines\u001b[39m=\u001b[39m []\n\u001b[1;32m     61\u001b[0m \u001b[39mfor\u001b[39;00m df \u001b[39min\u001b[39;00m dfs:\n\u001b[1;32m     62\u001b[0m     lines\u001b[39m.\u001b[39mappend(\n\u001b[0;32m---> 63\u001b[0m         go\u001b[39m.\u001b[39;49mline(df, x \u001b[39m=\u001b[39m \u001b[39m'\u001b[39m\u001b[39mtime(s)\u001b[39m\u001b[39m'\u001b[39m, y \u001b[39m=\u001b[39m df\u001b[39m.\u001b[39mcolumns[\u001b[39m0\u001b[39m:\u001b[39m3\u001b[39m])\n\u001b[1;32m     64\u001b[0m     )\n\u001b[1;32m     67\u001b[0m updatemenus \u001b[39m=\u001b[39m [\n\u001b[1;32m     68\u001b[0m     {\n\u001b[1;32m     69\u001b[0m         \u001b[39m'\u001b[39m\u001b[39mbuttons\u001b[39m\u001b[39m'\u001b[39m: [\n\u001b[0;32m   (...)\u001b[0m\n\u001b[1;32m     87\u001b[0m     }\n\u001b[1;32m     88\u001b[0m ]\n\u001b[1;32m     90\u001b[0m layout \u001b[39m=\u001b[39m go\u001b[39m.\u001b[39mLayout(\n\u001b[1;32m     91\u001b[0m     updatemenus\u001b[39m=\u001b[39mupdatemenus,\n\u001b[1;32m     92\u001b[0m )\n",
      "File \u001b[0;32m/Library/Frameworks/Python.framework/Versions/3.11/lib/python3.11/site-packages/plotly/graph_objects/__init__.py:299\u001b[0m, in \u001b[0;36m__getattr__\u001b[0;34m(import_name)\u001b[0m\n\u001b[1;32m    295\u001b[0m         \u001b[39mfrom\u001b[39;00m \u001b[39m.\u001b[39;00m\u001b[39m.\u001b[39;00m\u001b[39mmissing_ipywidgets\u001b[39;00m \u001b[39mimport\u001b[39;00m FigureWidget\n\u001b[1;32m    297\u001b[0m         \u001b[39mreturn\u001b[39;00m FigureWidget\n\u001b[0;32m--> 299\u001b[0m \u001b[39mreturn\u001b[39;00m orig_getattr(import_name)\n",
      "File \u001b[0;32m/Library/Frameworks/Python.framework/Versions/3.11/lib/python3.11/site-packages/_plotly_utils/importers.py:39\u001b[0m, in \u001b[0;36mrelative_import.<locals>.__getattr__\u001b[0;34m(import_name)\u001b[0m\n\u001b[1;32m     36\u001b[0m     class_module \u001b[39m=\u001b[39m importlib\u001b[39m.\u001b[39mimport_module(rel_module, parent_name)\n\u001b[1;32m     37\u001b[0m     \u001b[39mreturn\u001b[39;00m \u001b[39mgetattr\u001b[39m(class_module, class_name)\n\u001b[0;32m---> 39\u001b[0m \u001b[39mraise\u001b[39;00m \u001b[39mAttributeError\u001b[39;00m(\n\u001b[1;32m     40\u001b[0m     \u001b[39m\"\u001b[39m\u001b[39mmodule \u001b[39m\u001b[39m{__name__!r}\u001b[39;00m\u001b[39m has no attribute \u001b[39m\u001b[39m{name!r}\u001b[39;00m\u001b[39m\"\u001b[39m\u001b[39m.\u001b[39mformat(\n\u001b[1;32m     41\u001b[0m         name\u001b[39m=\u001b[39mimport_name, \u001b[39m__name__\u001b[39m\u001b[39m=\u001b[39mparent_name\n\u001b[1;32m     42\u001b[0m     )\n\u001b[1;32m     43\u001b[0m )\n",
      "\u001b[0;31mAttributeError\u001b[0m: module 'plotly.graph_objects' has no attribute 'line'"
     ]
    }
   ],
   "source": [
    "#reading csv data from data/ subdir\n",
    "raw_csv = read_data('./Data/') \n",
    "#cleaning cols\n",
    "for i in range(len(raw_csv)):\n",
    "    raw_csv[i] = clean_col(raw_csv[i])\n",
    "\n",
    "raw_csv[0].columns[0][:]\n",
    "many_simple(raw_csv).show()\n",
    "\n",
    "raw_csv[0].head()"
   ]
  },
  {
   "cell_type": "code",
   "execution_count": 23,
   "metadata": {},
   "outputs": [
    {
     "data": {
      "text/html": [
       "<div>\n",
       "<style scoped>\n",
       "    .dataframe tbody tr th:only-of-type {\n",
       "        vertical-align: middle;\n",
       "    }\n",
       "\n",
       "    .dataframe tbody tr th {\n",
       "        vertical-align: top;\n",
       "    }\n",
       "\n",
       "    .dataframe thead th {\n",
       "        text-align: right;\n",
       "    }\n",
       "</style>\n",
       "<table border=\"1\" class=\"dataframe\">\n",
       "  <thead>\n",
       "    <tr style=\"text-align: right;\">\n",
       "      <th></th>\n",
       "      <th>x (N)</th>\n",
       "      <th>y (N)</th>\n",
       "      <th>z (N)</th>\n",
       "      <th>time(s)</th>\n",
       "    </tr>\n",
       "  </thead>\n",
       "  <tbody>\n",
       "    <tr>\n",
       "      <th>2</th>\n",
       "      <td>-1.839375</td>\n",
       "      <td>1.226250</td>\n",
       "      <td>9.963281</td>\n",
       "      <td>0.00000</td>\n",
       "    </tr>\n",
       "    <tr>\n",
       "      <th>3</th>\n",
       "      <td>0.000000</td>\n",
       "      <td>2.145938</td>\n",
       "      <td>12.262500</td>\n",
       "      <td>0.03125</td>\n",
       "    </tr>\n",
       "    <tr>\n",
       "      <th>4</th>\n",
       "      <td>-0.919687</td>\n",
       "      <td>2.452500</td>\n",
       "      <td>10.423125</td>\n",
       "      <td>0.06250</td>\n",
       "    </tr>\n",
       "    <tr>\n",
       "      <th>5</th>\n",
       "      <td>0.000000</td>\n",
       "      <td>-0.613125</td>\n",
       "      <td>8.890313</td>\n",
       "      <td>0.09375</td>\n",
       "    </tr>\n",
       "    <tr>\n",
       "      <th>6</th>\n",
       "      <td>0.153281</td>\n",
       "      <td>-0.613125</td>\n",
       "      <td>10.882969</td>\n",
       "      <td>0.12500</td>\n",
       "    </tr>\n",
       "    <tr>\n",
       "      <th>...</th>\n",
       "      <td>...</td>\n",
       "      <td>...</td>\n",
       "      <td>...</td>\n",
       "      <td>...</td>\n",
       "    </tr>\n",
       "    <tr>\n",
       "      <th>168350</th>\n",
       "      <td>-9.963281</td>\n",
       "      <td>-1.072969</td>\n",
       "      <td>0.459844</td>\n",
       "      <td>5260.87500</td>\n",
       "    </tr>\n",
       "    <tr>\n",
       "      <th>168351</th>\n",
       "      <td>-9.963281</td>\n",
       "      <td>-1.072969</td>\n",
       "      <td>0.459844</td>\n",
       "      <td>5260.90625</td>\n",
       "    </tr>\n",
       "    <tr>\n",
       "      <th>168352</th>\n",
       "      <td>-9.963281</td>\n",
       "      <td>-1.072969</td>\n",
       "      <td>0.459844</td>\n",
       "      <td>5260.93750</td>\n",
       "    </tr>\n",
       "    <tr>\n",
       "      <th>168353</th>\n",
       "      <td>-9.963281</td>\n",
       "      <td>-1.379531</td>\n",
       "      <td>0.613125</td>\n",
       "      <td>5260.96875</td>\n",
       "    </tr>\n",
       "    <tr>\n",
       "      <th>168354</th>\n",
       "      <td>-9.810000</td>\n",
       "      <td>-1.072969</td>\n",
       "      <td>0.613125</td>\n",
       "      <td>5261.00000</td>\n",
       "    </tr>\n",
       "  </tbody>\n",
       "</table>\n",
       "<p>168353 rows × 4 columns</p>\n",
       "</div>"
      ],
      "text/plain": [
       "           x (N)     y (N)      z (N)     time(s)\n",
       "2      -1.839375  1.226250   9.963281     0.00000\n",
       "3       0.000000  2.145938  12.262500     0.03125\n",
       "4      -0.919687  2.452500  10.423125     0.06250\n",
       "5       0.000000 -0.613125   8.890313     0.09375\n",
       "6       0.153281 -0.613125  10.882969     0.12500\n",
       "...          ...       ...        ...         ...\n",
       "168350 -9.963281 -1.072969   0.459844  5260.87500\n",
       "168351 -9.963281 -1.072969   0.459844  5260.90625\n",
       "168352 -9.963281 -1.072969   0.459844  5260.93750\n",
       "168353 -9.963281 -1.379531   0.613125  5260.96875\n",
       "168354 -9.810000 -1.072969   0.613125  5261.00000\n",
       "\n",
       "[168353 rows x 4 columns]"
      ]
     },
     "execution_count": 23,
     "metadata": {},
     "output_type": "execute_result"
    }
   ],
   "source": [
    "raw_csv[0]\n",
    "\n"
   ]
  },
  {
   "cell_type": "code",
   "execution_count": null,
   "metadata": {},
   "outputs": [],
   "source": []
  },
  {
   "cell_type": "code",
   "execution_count": null,
   "metadata": {},
   "outputs": [],
   "source": []
  }
 ],
 "metadata": {
  "kernelspec": {
   "display_name": "Python 3.11.1 64-bit",
   "language": "python",
   "name": "python3"
  },
  "language_info": {
   "codemirror_mode": {
    "name": "ipython",
    "version": 3
   },
   "file_extension": ".py",
   "mimetype": "text/x-python",
   "name": "python",
   "nbconvert_exporter": "python",
   "pygments_lexer": "ipython3",
   "version": "3.11.1"
  },
  "orig_nbformat": 4,
  "vscode": {
   "interpreter": {
    "hash": "aee8b7b246df8f9039afb4144a1f6fd8d2ca17a180786b69acc140d282b71a49"
   }
  }
 },
 "nbformat": 4,
 "nbformat_minor": 2
}
